{
 "cells": [
  {
   "cell_type": "markdown",
   "id": "ea807a09",
   "metadata": {},
   "source": [
    "# 1 - Définition des variables et installation de la librairie requests"
   ]
  },
  {
   "cell_type": "code",
   "execution_count": null,
   "id": "7f0ddbd1",
   "metadata": {},
   "outputs": [],
   "source": [
    "!pip install requests"
   ]
  },
  {
   "cell_type": "code",
   "execution_count": null,
   "id": "6982e6d7",
   "metadata": {},
   "outputs": [],
   "source": [
    "# === Définition des variables ===\n",
    "\n",
    "base_donnee = 4 # numéro de la base de données dans AGORHA (4 pour RETIF)\n",
    "type_notice = \"ARTWORK\" # types de notices à récupérer (ARTWORK pour les oeuvres)"
   ]
  },
  {
   "cell_type": "markdown",
   "id": "529a8b22",
   "metadata": {},
   "source": [
    "# 2 - Requête du json complet des notices dans l'API d'AGORHA"
   ]
  },
  {
   "cell_type": "code",
   "execution_count": null,
   "id": "b029b919",
   "metadata": {},
   "outputs": [],
   "source": [
    "import os\n",
    "import json\n",
    "import requests\n",
    "\n",
    "# === Création du json contenant toutes les notices pour la base de données === \n",
    "\n",
    "dir_export_json = \"export_json\"\n",
    "if not os.path.exists(dir_export_json):\n",
    "    os.makedirs(dir_export_json)\n",
    "\n",
    "json_API = os.path.join(dir_export_json, f\"export_{base_donnee}.json\")\n",
    "\n",
    "def export_db_json(num, jeton = None, all_notices=None) :\n",
    "    if all_notices is None:\n",
    "        all_notices = []\n",
    "\n",
    "    params = {\"noticeType\": str(type_notice), # à modifier en fonction du type de données (\"ARTWORK\")\n",
    "              \"database\": str(base_donnee), # à modifier en fonction de la base de données\n",
    "              \"token\": jeton}\n",
    "\n",
    "    requete = requests.get('https://agorha.inha.fr/api/notice/exportjson', params=params)\n",
    "    # print(requete.url)\n",
    "\n",
    "    reponse = requete.json()\n",
    "    jeton = reponse.get(\"token\", \"\")\n",
    "    # print(jeton)\n",
    "    notices = reponse.get(\"notices\", [])\n",
    "    # print(notices)\n",
    "    all_notices.extend(notices)\n",
    "\n",
    "    # les lignes ci-dessous sont à activer pour avoir les json par pages\n",
    "    #notice_ouput = os.path.join(dir_export_json, f\"notices_{num}.json\")\n",
    "    #with open(notice_ouput, \"w\", encoding=\"utf-8\") as f:\n",
    "    #    json.dump(notices, f, ensure_ascii=False)\n",
    "\n",
    "    if len(jeton):\n",
    "            export_db_json(str((int(num) + 1)), jeton=jeton, all_notices = all_notices)\n",
    "    else :\n",
    "        with open(json_API, \"w\", encoding=\"utf-8\") as f_all:\n",
    "            json.dump({\"notices\":all_notices}, f_all, ensure_ascii=False)\n",
    "        print(f\"Les notices ont été exportés dans le fichier {json_API}\")\n",
    "\n",
    "resultat = export_db_json(\"1\")"
   ]
  },
  {
   "cell_type": "markdown",
   "id": "c2bb9174",
   "metadata": {},
   "source": [
    "# 3 - Création d'un fichier json contenant les liens des images\n",
    "\n",
    "Pour le RETIF, le fichier est déjà créé dans le dossier export_liens_images"
   ]
  },
  {
   "cell_type": "code",
   "execution_count": null,
   "id": "f5bab6c2",
   "metadata": {},
   "outputs": [],
   "source": [
    "import os\n",
    "import json\n",
    "\n",
    "# === Création d'un fichier json contenant le lien des images ===\n",
    "\n",
    "dir_export_links = \"export_liens_images\"\n",
    "os.makedirs(dir_export_links, exist_ok=True)\n",
    "\n",
    "# Charger le fichier JSON\n",
    "with open(json_API, \"r\", encoding=\"utf-8\") as f:\n",
    "    data = json.load(f)\n",
    "\n",
    "# Dictionnaire {uuid: lien de l'image}\n",
    "images_links = {}\n",
    "\n",
    "# Parcourir chaque notice\n",
    "for notice in data.get(\"notices\", []):\n",
    "    permalink = notice.get(\"permalink\")\n",
    "    uuid = notice.get(\"internal\", {}).get(\"uuid\")\n",
    "    prefPicture = (\n",
    "        notice.get(\"content\", {})\n",
    "        .get(\"mediaInformation\", {})\n",
    "        .get(\"prefPicture\", {})\n",
    "        .get(\"thumbnail\", \"\")\n",
    "    )\n",
    "\n",
    "    # Ajouter au dictionnaire si les deux infos sont présentes\n",
    "    if uuid and prefPicture:\n",
    "        images_links[uuid] = prefPicture\n",
    "\n",
    "print(f\"Nombre total de liens d'images trouvés : {len(images_links)}\")\n",
    "\n",
    "# Enregistrer dans un fichier JSON\n",
    "json_images_links = os.path.join(dir_export_links, f\"liens_images_{base_donnee}.json\")\n",
    "\n",
    "with open(json_images_links, \"w\", encoding=\"utf-8\") as out_file:\n",
    "    json.dump(images_links, out_file, ensure_ascii=False, indent=2)\n",
    "\n",
    "print(f\"Les liens des images ont été enregistrés dans {json_images_links}\")"
   ]
  },
  {
   "cell_type": "markdown",
   "id": "7a54a503",
   "metadata": {},
   "source": [
    "# 4 - Télécharger les images dans un dossier"
   ]
  },
  {
   "cell_type": "code",
   "execution_count": null,
   "id": "4df1abd1",
   "metadata": {},
   "outputs": [],
   "source": [
    "import os\n",
    "import json\n",
    "import requests\n",
    "\n",
    "# === télécharger les images dans un dossier ===\n",
    "\n",
    "start_line = 0 # choix de la ligne de départ, peut être modifiée si besoin\n",
    "\n",
    "# Charger les liens d’images\n",
    "with open(json_images_links, \"r\", encoding=\"utf-8\") as f:\n",
    "    images_links = json.load(f)\n",
    "\n",
    "total_images = len(images_links)\n",
    "\n",
    "# Créer le dossier d’export s’il n'existe pas\n",
    "dir_export_image = f\"images/{base_donnee}\"\n",
    "os.makedirs(dir_export_image, exist_ok=True)\n",
    "\n",
    "erreursfile = os.path.join(dir_export_links, f\"erreurs_{base_donnee}.jsonl\")\n",
    "\n",
    "# Ouvrir le fichier d'erreurs pour indiquer les erreurs au fur et à mesure\n",
    "with open(erreursfile, \"a\", encoding=\"utf-8\") as error_log:\n",
    "    # Boucle principale\n",
    "    for index, (uuid, img_url) in enumerate(images_links.items()):\n",
    "        if index < start_line:\n",
    "            continue\n",
    "\n",
    "        if not img_url:\n",
    "            json.dump({\"uuid\": uuid, \"error\": \"Empty URL\"}, error_log, ensure_ascii=False)\n",
    "            error_log.write(\"\\n\")\n",
    "            continue\n",
    "\n",
    "        img_url = img_url.replace(\"thumbnail\", \"original\")\n",
    "        filename = os.path.join(dir_export_image, f\"{uuid}.jpg\")\n",
    "\n",
    "        if os.path.exists(filename):\n",
    "            print(f\"[{index+1}/{total_images}] ✅ Déjà existant : {filename}\")\n",
    "            continue\n",
    "\n",
    "        try:\n",
    "            response = requests.get(img_url, timeout=10)\n",
    "            if response.status_code == 200:\n",
    "                with open(filename, \"wb\") as f:\n",
    "                    f.write(response.content)\n",
    "                print(f\"[{index+1}/{total_images}] ✅ Téléchargé : {filename}\")\n",
    "            else:\n",
    "                raise Exception(f\"HTTP {response.status_code}\")\n",
    "        except Exception as e:\n",
    "            print(f\"[{index+1}/{total_images}] ❌ Erreur : {img_url} -> {e}\")\n",
    "            json.dump({\"uuid\": uuid, \"url\": img_url, \"error\": str(e)}, error_log, ensure_ascii=False)\n",
    "            error_log.write(\"\\n\")\n",
    "        # time.sleep(1) # pas obligatoire puisque l'API d'AGORHA autorise"
   ]
  }
 ],
 "metadata": {
  "kernelspec": {
   "display_name": "clip",
   "language": "python",
   "name": "python3"
  },
  "language_info": {
   "codemirror_mode": {
    "name": "ipython",
    "version": 3
   },
   "file_extension": ".py",
   "mimetype": "text/x-python",
   "name": "python",
   "nbconvert_exporter": "python",
   "pygments_lexer": "ipython3",
   "version": "3.12.11"
  }
 },
 "nbformat": 4,
 "nbformat_minor": 5
}
