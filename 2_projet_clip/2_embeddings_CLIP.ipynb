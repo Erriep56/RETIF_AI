{
 "cells": [
  {
   "cell_type": "markdown",
   "id": "e994f78b",
   "metadata": {},
   "source": [
    "# 1 - Téléchargement des librairies et selection du dossier d'images"
   ]
  },
  {
   "cell_type": "code",
   "execution_count": null,
   "id": "9da18c62",
   "metadata": {},
   "outputs": [],
   "source": [
    "!pip install git+https://github.com/openai/CLIP.git\n",
    "!pip install numpy==1.26.1"
   ]
  },
  {
   "cell_type": "code",
   "execution_count": null,
   "id": "ad83907b",
   "metadata": {},
   "outputs": [],
   "source": [
    "images_folder = \"images/4\""
   ]
  },
  {
   "cell_type": "markdown",
   "id": "5393ba5c",
   "metadata": {},
   "source": [
    "# 2 - Vérication de cuda (si GPU)\n",
    "\n",
    "L'utilisation de GPU n'est pas nécessaire pour la création d'embeddings.\n"
   ]
  },
  {
   "cell_type": "code",
   "execution_count": null,
   "id": "ed865262",
   "metadata": {},
   "outputs": [],
   "source": [
    "import torch\n",
    "import numpy as np\n",
    "from pkg_resources import packaging\n",
    "\n",
    "torch.cuda.is_available()\n",
    "print(\"Torch version:\", torch.__version__)"
   ]
  },
  {
   "cell_type": "markdown",
   "id": "3acb1a46",
   "metadata": {},
   "source": [
    "# 3 - Choix du modèle CLIP"
   ]
  },
  {
   "cell_type": "code",
   "execution_count": null,
   "id": "7dc28485",
   "metadata": {},
   "outputs": [],
   "source": [
    "import clip\n",
    "\n",
    "clip.available_models()"
   ]
  },
  {
   "cell_type": "code",
   "execution_count": null,
   "id": "d3212b22",
   "metadata": {},
   "outputs": [],
   "source": [
    "choix_modele = \"ViT-B/32\" # ViT-B/32 est le modèle conseillé\n",
    "nom_modele = choix_modele.replace(\"/\", \"_\")\n",
    "print(nom_modele)"
   ]
  },
  {
   "cell_type": "markdown",
   "id": "8bff76e5",
   "metadata": {},
   "source": [
    "# 4 - Création des embeddings\n",
    "Pour chaque image, l'embedding sera sauvegardé dans un fichier json distinct"
   ]
  },
  {
   "cell_type": "code",
   "execution_count": null,
   "id": "08261092",
   "metadata": {},
   "outputs": [],
   "source": [
    "import clip\n",
    "import torch\n",
    "from PIL import Image\n",
    "from io import BytesIO\n",
    "import json\n",
    "import os\n",
    "import time\n",
    "from tqdm import tqdm\n",
    "\n",
    "\n",
    "# Charger le modèle CLIP\n",
    "device = \"cuda\" if torch.cuda.is_available() else \"cpu\"\n",
    "model, preprocess = clip.load(choix_modele, device=device)\n",
    "\n",
    "# Récupérer toutes les images dans le dossier\n",
    "image_files = [f for f in os.listdir(images_folder) if f.lower().endswith(('.jpg', '.jpeg', '.png'))]\n",
    "total = len(image_files)\n",
    "\n",
    "output_folder = \"clip_json\"\n",
    "os.makedirs(output_folder, exist_ok=True)\n",
    "\n",
    "\n",
    "# Boucle sur chaque image\n",
    "for idx, filename in enumerate(tqdm(image_files, desc=\"Traitement des images\")):\n",
    "    input_path = os.path.join(images_folder, filename)\n",
    "    output_path = os.path.join(output_folder, f\"{os.path.splitext(filename)[0]}.json\")\n",
    "\n",
    "    # Si le JSON existe déjà, on passe\n",
    "    if os.path.exists(output_path):\n",
    "        continue\n",
    "\n",
    "    try:\n",
    "        image = Image.open(input_path).convert(\"RGB\")\n",
    "        image_input = preprocess(image).unsqueeze(0).to(device)\n",
    "\n",
    "        with torch.no_grad():\n",
    "            image_features = model.encode_image(image_input)\n",
    "            image_features /= image_features.norm(dim=-1, keepdim=True)\n",
    "\n",
    "        data = {\n",
    "            \"filename\": filename,\n",
    "            \"embedding\": image_features.cpu().tolist()[0]\n",
    "        }\n",
    "\n",
    "        with open(output_path, \"w\", encoding=\"utf-8\") as f:\n",
    "            json.dump(data, f)\n",
    "\n",
    "\n",
    "    except Exception as e:\n",
    "        print(f\"[{idx+1}/{total}] ❌ Erreur sur {filename} : {e}\")\n"
   ]
  }
 ],
 "metadata": {
  "kernelspec": {
   "display_name": "clip",
   "language": "python",
   "name": "python3"
  },
  "language_info": {
   "codemirror_mode": {
    "name": "ipython",
    "version": 3
   },
   "file_extension": ".py",
   "mimetype": "text/x-python",
   "name": "python",
   "nbconvert_exporter": "python",
   "pygments_lexer": "ipython3",
   "version": "3.12.11"
  }
 },
 "nbformat": 4,
 "nbformat_minor": 5
}
